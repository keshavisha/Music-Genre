{
  "nbformat": 4,
  "nbformat_minor": 0,
  "metadata": {
    "colab": {
      "provenance": [],
      "authorship_tag": "ABX9TyOYr+dACadkD1qW3Esr+pSr",
      "include_colab_link": true
    },
    "kernelspec": {
      "name": "python3",
      "display_name": "Python 3"
    },
    "language_info": {
      "name": "python"
    }
  },
  "cells": [
    {
      "cell_type": "markdown",
      "metadata": {
        "id": "view-in-github",
        "colab_type": "text"
      },
      "source": [
        "<a href=\"https://colab.research.google.com/github/keshavisha/Music-Genre/blob/main/FinalCode.ipynb\" target=\"_parent\"><img src=\"https://colab.research.google.com/assets/colab-badge.svg\" alt=\"Open In Colab\"/></a>"
      ]
    },
    {
      "cell_type": "code",
      "execution_count": 1,
      "metadata": {
        "id": "v-mnL8fUyOAE"
      },
      "outputs": [],
      "source": [
        "import pandas as pd\n",
        "import numpy as np\n",
        "import matplotlib.pyplot as plt\n",
        "from sklearn.model_selection import train_test_split \n",
        "from sklearn.ensemble import RandomForestClassifier"
      ]
    },
    {
      "cell_type": "code",
      "source": [
        "df=pd.read_csv(\"features_30_sec.csv\")\n",
        "data=df.iloc[:,2:-1]\n",
        "labels=df.iloc[:,-1]\n",
        "from sklearn import tree"
      ],
      "metadata": {
        "id": "6Kd6JxauyfZN"
      },
      "execution_count": 2,
      "outputs": []
    },
    {
      "cell_type": "code",
      "source": [
        "x_train,x_test,y_train,y_test=train_test_split(data,labels,test_size=0.28,random_state=42)"
      ],
      "metadata": {
        "id": "txs4kAGIo2yT"
      },
      "execution_count": 3,
      "outputs": []
    },
    {
      "cell_type": "code",
      "source": [
        "import pydot\n",
        "def model_to_png(model, file_name):\n",
        "  graph_data = tree.export_graphviz(model)\n",
        "  graph = pydot.graph_from_dot_data(graph_data)\n",
        "  graph[0].write_png(file_name)"
      ],
      "metadata": {
        "id": "afW6MXaZ2zlD"
      },
      "execution_count": 4,
      "outputs": []
    },
    {
      "cell_type": "code",
      "source": [
        "model=tree.DecisionTreeClassifier(random_state=100,max_depth=3)\n",
        "model.fit(x_train,y_train)\n",
        "model_to_png(model,'model3.png')"
      ],
      "metadata": {
        "id": "dvY8-jML13tZ"
      },
      "execution_count": 5,
      "outputs": []
    },
    {
      "cell_type": "code",
      "source": [
        "model=tree.DecisionTreeClassifier(random_state=100,max_depth=5)\n",
        "model.fit(x_train,y_train)\n",
        "\n",
        "model_to_png(model, 'model5.png')"
      ],
      "metadata": {
        "id": "A-vUNPyi0QWJ"
      },
      "execution_count": 6,
      "outputs": []
    },
    {
      "cell_type": "code",
      "source": [
        "model=tree.DecisionTreeClassifier(random_state=100,max_depth=10)\n",
        "model.fit(data,labels)\n",
        "model_to_png(model,'model10.png')"
      ],
      "metadata": {
        "id": "Re9pOB4F1i-v"
      },
      "execution_count": 7,
      "outputs": []
    },
    {
      "cell_type": "code",
      "source": [
        "model=tree.DecisionTreeClassifier(random_state=100,max_depth=15)\n",
        "model.fit(x_train,y_train)\n",
        "model_to_png(model, 'model15.png')"
      ],
      "metadata": {
        "id": "EFK9DQBI1r3h"
      },
      "execution_count": 8,
      "outputs": []
    },
    {
      "cell_type": "code",
      "source": [
        "df_to_train=x_train[[\"perceptr_var\",\"rolloff_var\",\"spectral_bandwidth_mean\",\"mfcc4_mean\",\"mfcc7_var\"]]\n",
        "df_to_test=x_test[[\"perceptr_var\",\"rolloff_var\",\"spectral_bandwidth_mean\",\"mfcc4_mean\",\"mfcc7_var\"]]"
      ],
      "metadata": {
        "id": "7F-4nK5MAQzu"
      },
      "execution_count": 9,
      "outputs": []
    },
    {
      "cell_type": "code",
      "source": [
        "from sklearn.metrics import accuracy_score\n",
        "\n",
        "clf=RandomForestClassifier(random_state=79)\n",
        "clf.fit(df_to_train,y_train)\n",
        "y_pred=clf.predict(df_to_test)\n",
        "acc = accuracy_score(y_test, y_pred)\n",
        "  \n",
        "print(\"Accuracy:\", acc)\n"
      ],
      "metadata": {
        "colab": {
          "base_uri": "https://localhost:8080/"
        },
        "id": "BtGeZ3Zg7Bpg",
        "outputId": "6b86ba0c-f6bc-4b71-b939-2e05286aaa3f"
      },
      "execution_count": 10,
      "outputs": [
        {
          "output_type": "stream",
          "name": "stdout",
          "text": [
            "Accuracy: 0.5107142857142857\n"
          ]
        }
      ]
    },
    {
      "cell_type": "code",
      "source": [
        "df_to_train=x_train[[\"perceptr_var\",\"rolloff_var\",\"spectral_bandwidth_mean\",\"mfcc4_mean\",\"mfcc7_var\",\"chroma_stft_mean\",\"rms_mean\",\"harmony_var\",\"spectral_centroid_mean\",\"mfcc20_mean\"]]\n",
        "df_to_test=x_test[[\"perceptr_var\",\"rolloff_var\",\"spectral_bandwidth_mean\",\"mfcc4_mean\",\"mfcc7_var\",\"chroma_stft_mean\",\"rms_mean\",\"harmony_var\",\"spectral_centroid_mean\",\"mfcc20_mean\"]]"
      ],
      "metadata": {
        "id": "RBrMDqHkx_xC"
      },
      "execution_count": 22,
      "outputs": []
    },
    {
      "cell_type": "code",
      "source": [
        "from sklearn.metrics import accuracy_score\n",
        "\n",
        "clf=RandomForestClassifier(random_state=79)\n",
        "clf.fit(df_to_train,y_train)\n",
        "y_pred=clf.predict(df_to_test)\n",
        "acc = accuracy_score(y_test, y_pred)\n",
        "  \n",
        "print(\"Accuracy:\", acc)\n"
      ],
      "metadata": {
        "colab": {
          "base_uri": "https://localhost:8080/"
        },
        "id": "90IiVo3c0WZZ",
        "outputId": "aa456a35-911b-4a2e-ffb4-9ec2b6b3fb2a"
      },
      "execution_count": 23,
      "outputs": [
        {
          "output_type": "stream",
          "name": "stdout",
          "text": [
            "Accuracy: 0.5928571428571429\n"
          ]
        }
      ]
    },
    {
      "cell_type": "code",
      "source": [
        "df_to_train=x_train[[\"perceptr_var\",\"rolloff_var\",\"spectral_bandwidth_mean\",\"mfcc4_mean\",\"mfcc7_var\",\"chroma_stft_mean\",\"rms_mean\",\"harmony_var\",\"spectral_centroid_mean\",\"mfcc20_mean\",\"mfcc5_var\",\"rms_var\",\"mfcc18_var\",\"chroma_stft_var\",\"mfcc12_var\",\"mfcc1_mean\"]]\n",
        "df_to_test=x_test[[\"perceptr_var\",\"rolloff_var\",\"spectral_bandwidth_mean\",\"mfcc4_mean\",\"mfcc7_var\",\"chroma_stft_mean\",\"rms_mean\",\"harmony_var\",\"spectral_centroid_mean\",\"mfcc20_mean\",\"mfcc5_var\",\"rms_var\",\"mfcc18_var\",\"chroma_stft_var\",\"mfcc12_var\",\"mfcc1_mean\"]]"
      ],
      "metadata": {
        "id": "OqL7qtOW0haB"
      },
      "execution_count": 24,
      "outputs": []
    },
    {
      "cell_type": "code",
      "source": [
        "from sklearn.metrics import accuracy_score\n",
        "\n",
        "clf=RandomForestClassifier(random_state=79)\n",
        "clf.fit(df_to_train,y_train)\n",
        "y_pred=clf.predict(df_to_test)\n",
        "acc = accuracy_score(y_test, y_pred)\n",
        "  \n",
        "print(\"Accuracy:\", acc)\n"
      ],
      "metadata": {
        "colab": {
          "base_uri": "https://localhost:8080/"
        },
        "id": "d--gwdgY4l9S",
        "outputId": "659aba0a-87dc-47d7-bf0c-14feff021916"
      },
      "execution_count": 25,
      "outputs": [
        {
          "output_type": "stream",
          "name": "stdout",
          "text": [
            "Accuracy: 0.6357142857142857\n"
          ]
        }
      ]
    },
    {
      "cell_type": "code",
      "source": [
        "from sklearn.feature_selection import VarianceThreshold\n",
        "from sklearn.model_selection import GridSearchCV\n",
        "selector = VarianceThreshold(threshold=0.01)\n",
        "X_selected = selector.fit_transform(x_train)\n",
        "indices = selector.get_support(indices=True)[:5]\n",
        "X_top5 = X_selected[:, indices]\n",
        "param_grid = {\n",
        "    'n_estimators': [10, 50, 100],\n",
        "    'max_depth': [3, 5, 10],\n",
        "    'min_samples_split': [2, 5, 10],\n",
        "    'min_samples_leaf': [1, 2, 4],\n",
        "    'bootstrap': [True, False]\n",
        "}\n",
        "rf = RandomForestClassifier(random_state=79)\n",
        "grid_search = GridSearchCV(rf, param_grid=param_grid, cv=5, n_jobs=-1)\n",
        "grid_search.fit(X_top5, y_train)\n",
        "print(\"Best parameters:\", grid_search.best_params_)\n",
        "print(\"Best accuracy score:\", grid_search.best_score_)\n"
      ],
      "metadata": {
        "colab": {
          "base_uri": "https://localhost:8080/"
        },
        "id": "vrg1D6XCqx-i",
        "outputId": "b70710ac-7338-411e-fa9f-ace6d84aa09a"
      },
      "execution_count": 16,
      "outputs": [
        {
          "output_type": "stream",
          "name": "stdout",
          "text": [
            "Best parameters: {'bootstrap': True, 'max_depth': 10, 'min_samples_leaf': 1, 'min_samples_split': 10, 'n_estimators': 100}\n",
            "Best accuracy score: 0.4805555555555555\n"
          ]
        }
      ]
    },
    {
      "cell_type": "code",
      "source": [
        "x_selected_test=selector.transform(x_test)\n",
        "indices = selector.get_support(indices=True)[:5]\n",
        "X_top5 = x_selected_test[:, indices]\n",
        "param_grid = {\n",
        "    'n_estimators': [10, 50, 100],\n",
        "    'max_depth': [3, 5, 10],\n",
        "    'min_samples_split': [2, 5, 10],\n",
        "    'min_samples_leaf': [1, 2, 4],\n",
        "    'bootstrap': [True, False]\n",
        "}\n",
        "rf = RandomForestClassifier(random_state=79)\n",
        "grid_search = GridSearchCV(rf, param_grid=param_grid, cv=5, n_jobs=-1)\n",
        "grid_search.fit(X_top5, y_test)\n",
        "print(\"Best parameters:\", grid_search.best_params_)\n",
        "print(\"Best accuracy score:\", grid_search.best_score_)\n"
      ],
      "metadata": {
        "colab": {
          "base_uri": "https://localhost:8080/"
        },
        "id": "Nj3NWQkEvxvo",
        "outputId": "bde13a8b-b4a9-4441-8ac5-3e5a06d7b005"
      },
      "execution_count": 19,
      "outputs": [
        {
          "output_type": "stream",
          "name": "stdout",
          "text": [
            "Best parameters: {'bootstrap': True, 'max_depth': 10, 'min_samples_leaf': 1, 'min_samples_split': 5, 'n_estimators': 100}\n",
            "Best accuracy score: 0.4821428571428571\n"
          ]
        }
      ]
    },
    {
      "cell_type": "code",
      "source": [
        "X_selected = selector.fit_transform(x_train)\n",
        "indices = selector.get_support(indices=True)[:10]\n",
        "X_top5 = X_selected[:, indices]\n",
        "param_grid = {\n",
        "    'n_estimators': [10, 50, 100],\n",
        "    'max_depth': [3, 5, 10],\n",
        "    'min_samples_split': [2, 5, 10],\n",
        "    'min_samples_leaf': [1, 2, 4],\n",
        "    'bootstrap': [True, False]\n",
        "}\n",
        "rf = RandomForestClassifier(random_state=79)\n",
        "grid_search = GridSearchCV(rf, param_grid=param_grid, cv=5, n_jobs=-1)\n",
        "grid_search.fit(X_top5, y_train)\n",
        "print(\"Best parameters:\", grid_search.best_params_)\n",
        "print(\"Best accuracy score:\", grid_search.best_score_)\n"
      ],
      "metadata": {
        "colab": {
          "base_uri": "https://localhost:8080/"
        },
        "id": "38zx9p5DuNz0",
        "outputId": "e2164597-bc2a-491f-a386-188bae64f21f"
      },
      "execution_count": 17,
      "outputs": [
        {
          "output_type": "stream",
          "name": "stdout",
          "text": [
            "Best parameters: {'bootstrap': True, 'max_depth': 10, 'min_samples_leaf': 1, 'min_samples_split': 5, 'n_estimators': 100}\n",
            "Best accuracy score: 0.5708333333333334\n"
          ]
        }
      ]
    },
    {
      "cell_type": "code",
      "source": [
        "x_selected_test=selector.transform(x_test)\n",
        "indices = selector.get_support(indices=True)[:10]\n",
        "X_top5 = x_selected_test[:, indices]\n",
        "param_grid = {\n",
        "    'n_estimators': [10, 50, 100],\n",
        "    'max_depth': [3, 5, 10],\n",
        "    'min_samples_split': [2, 5, 10],\n",
        "    'min_samples_leaf': [1, 2, 4],\n",
        "    'bootstrap': [True, False]\n",
        "}\n",
        "rf = RandomForestClassifier(random_state=79)\n",
        "grid_search = GridSearchCV(rf, param_grid=param_grid, cv=5, n_jobs=-1)\n",
        "grid_search.fit(X_top5, y_test)\n",
        "print(\"Best parameters:\", grid_search.best_params_)\n",
        "print(\"Best accuracy score:\", grid_search.best_score_)\n"
      ],
      "metadata": {
        "colab": {
          "base_uri": "https://localhost:8080/"
        },
        "id": "LMLZ6VBbw-yy",
        "outputId": "ecdcb464-3276-4914-87c8-cf052341d2d5"
      },
      "execution_count": 20,
      "outputs": [
        {
          "output_type": "stream",
          "name": "stdout",
          "text": [
            "Best parameters: {'bootstrap': False, 'max_depth': 10, 'min_samples_leaf': 2, 'min_samples_split': 5, 'n_estimators': 50}\n",
            "Best accuracy score: 0.5142857142857142\n"
          ]
        }
      ]
    },
    {
      "cell_type": "code",
      "source": [
        "X_selected = selector.fit_transform(x_train)\n",
        "indices = selector.get_support(indices=True)[:15]\n",
        "X_top5 = X_selected[:, indices]\n",
        "param_grid = {\n",
        "    'n_estimators': [10, 50, 100],\n",
        "    'max_depth': [3, 5, 10],\n",
        "    'min_samples_split': [2, 5, 10],\n",
        "    'min_samples_leaf': [1, 2, 4],\n",
        "    'bootstrap': [True, False]\n",
        "}\n",
        "rf = RandomForestClassifier(random_state=79)\n",
        "grid_search = GridSearchCV(rf, param_grid=param_grid, cv=5, n_jobs=-1)\n",
        "grid_search.fit(X_top5, y_train)\n",
        "print(\"Best parameters:\", grid_search.best_params_)\n",
        "print(\"Best accuracy score:\", grid_search.best_score_)\n"
      ],
      "metadata": {
        "colab": {
          "base_uri": "https://localhost:8080/"
        },
        "id": "UwGtUrXLuuOx",
        "outputId": "78acad0c-32b5-4d36-a61f-d72089dbb49e"
      },
      "execution_count": 18,
      "outputs": [
        {
          "output_type": "stream",
          "name": "stdout",
          "text": [
            "Best parameters: {'bootstrap': False, 'max_depth': 10, 'min_samples_leaf': 1, 'min_samples_split': 5, 'n_estimators': 100}\n",
            "Best accuracy score: 0.6069444444444445\n"
          ]
        }
      ]
    },
    {
      "cell_type": "code",
      "source": [
        "x_selected_test=selector.transform(x_test)\n",
        "indices = selector.get_support(indices=True)[:15]\n",
        "X_top5 = x_selected_test[:, indices]\n",
        "param_grid = {\n",
        "    'n_estimators': [10, 50, 100],\n",
        "    'max_depth': [3, 5, 10],\n",
        "    'min_samples_split': [2, 5, 10],\n",
        "    'min_samples_leaf': [1, 2, 4],\n",
        "    'bootstrap': [True, False]\n",
        "}\n",
        "rf = RandomForestClassifier(random_state=79)\n",
        "grid_search = GridSearchCV(rf, param_grid=param_grid, cv=5, n_jobs=-1)\n",
        "grid_search.fit(X_top5, y_test)\n",
        "print(\"Best parameters:\", grid_search.best_params_)\n",
        "print(\"Best accuracy score:\", grid_search.best_score_)\n"
      ],
      "metadata": {
        "colab": {
          "base_uri": "https://localhost:8080/"
        },
        "id": "S6I8JcHDxE-I",
        "outputId": "16fd77c8-5c07-401e-a237-378d007fcfec"
      },
      "execution_count": 21,
      "outputs": [
        {
          "output_type": "stream",
          "name": "stdout",
          "text": [
            "Best parameters: {'bootstrap': False, 'max_depth': 10, 'min_samples_leaf': 1, 'min_samples_split': 2, 'n_estimators': 50}\n",
            "Best accuracy score: 0.5642857142857143\n"
          ]
        }
      ]
    },
    {
      "cell_type": "code",
      "source": [
        "from sklearn.feature_selection import SelectKBest\n",
        "from sklearn.feature_selection import mutual_info_classif\n",
        "selector = SelectKBest(score_func=mutual_info_classif, k=5)\n",
        "X_new = selector.fit_transform(x_train, y_train)\n",
        "rfc = RandomForestClassifier(n_estimators=100, random_state=79)\n",
        "rfc.fit(X_new, y_train)\n",
        "X_new_test=selector.transform(x_test)\n",
        "# evaluate performance on test set\n",
        "accuracy = rfc.score(X_new_test, y_test)\n",
        "print(f\"Accuracy: {accuracy}\")"
      ],
      "metadata": {
        "colab": {
          "base_uri": "https://localhost:8080/"
        },
        "id": "2XombILaxu-q",
        "outputId": "28f7ad21-4d95-4f2e-9c78-0303359111ea"
      },
      "execution_count": 30,
      "outputs": [
        {
          "output_type": "stream",
          "name": "stdout",
          "text": [
            "Accuracy: 0.4857142857142857\n"
          ]
        }
      ]
    },
    {
      "cell_type": "code",
      "source": [
        "selector = SelectKBest(score_func=mutual_info_classif, k=10)\n",
        "X_new = selector.fit_transform(x_train, y_train)\n",
        "rfc = RandomForestClassifier(n_estimators=100, random_state=79)\n",
        "rfc.fit(X_new, y_train)\n",
        "X_new_test=selector.transform(x_test)\n",
        "# evaluate performance on test set\n",
        "accuracy = rfc.score(X_new_test, y_test)\n",
        "print(f\"Accuracy: {accuracy}\")"
      ],
      "metadata": {
        "colab": {
          "base_uri": "https://localhost:8080/"
        },
        "id": "XTSaFV_TEN-T",
        "outputId": "8baf9715-27b8-4c11-c1b3-9cb37a30f02b"
      },
      "execution_count": 31,
      "outputs": [
        {
          "output_type": "stream",
          "name": "stdout",
          "text": [
            "Accuracy: 0.5785714285714286\n"
          ]
        }
      ]
    },
    {
      "cell_type": "code",
      "source": [
        "selector = SelectKBest(score_func=mutual_info_classif, k=15)\n",
        "X_new = selector.fit_transform(x_train, y_train)\n",
        "rfc = RandomForestClassifier(n_estimators=100, random_state=79)\n",
        "rfc.fit(X_new, y_train)\n",
        "X_new_test=selector.transform(x_test)\n",
        "# evaluate performance on test set\n",
        "accuracy = rfc.score(X_new_test, y_test)\n",
        "print(f\"Accuracy: {accuracy}\")"
      ],
      "metadata": {
        "colab": {
          "base_uri": "https://localhost:8080/"
        },
        "id": "QFoRGzcaEQgn",
        "outputId": "c1fbfb3a-feea-443a-e091-e10381e1bd18"
      },
      "execution_count": 32,
      "outputs": [
        {
          "output_type": "stream",
          "name": "stdout",
          "text": [
            "Accuracy: 0.5892857142857143\n"
          ]
        }
      ]
    },
    {
      "cell_type": "code",
      "source": [
        "\n",
        "    #The accuracy in the test set that we have achieved for the \n",
        "    #three different pipelines is listed as follows:\n",
        "\n",
        "    #The Decision tree :\n",
        "   # 5 features:51.0714\n",
        "   # 10 features:59.2857\n",
        "   # 15 features:63.5714\n",
        "\n",
        "   # The VarianceTreshold and Grid Search:\n",
        "   # 5 features:48.214\n",
        "   # 10 features:51.42857\n",
        "   # 15 features:56.428\n",
        "\n",
        "   # The SelectKbest Feature selection using mutual_info_classif\n",
        "\n",
        "   # 5 features:48.5714\n",
        "   # 10 features:57.85714\n",
        "   # 15 features:58.92857\n",
        "\n",
        "#The study thus show the best way to do feature selection for music genre \n",
        "#classification where the model used is Random Forest with random state 79 being\n",
        "#the best one according to this dataset is The Decision Tree.\n",
        "# The order from best to worst :Decision Tree>Select-K-Best>Variance Treshold.\n",
        "\n",
        "#Thank You"
      ],
      "metadata": {
        "id": "nxdT-q40EVcB"
      },
      "execution_count": 33,
      "outputs": []
    }
  ]
}